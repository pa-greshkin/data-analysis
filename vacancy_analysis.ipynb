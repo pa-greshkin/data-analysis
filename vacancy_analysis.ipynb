{
  "nbformat": 4,
  "nbformat_minor": 0,
  "metadata": {
    "colab": {
      "provenance": []
    },
    "kernelspec": {
      "name": "python3",
      "display_name": "Python 3"
    },
    "language_info": {
      "name": "python"
    }
  },
  "cells": [
    {
      "cell_type": "markdown",
      "source": [
        "Задание 1"
      ],
      "metadata": {
        "id": "cmeBQ7n_wJnf"
      }
    },
    {
      "cell_type": "markdown",
      "source": [
        "\n",
        "\n",
        "1.   Попробуйте используя встроенные инструменты Python проанализировать таблицу из файла \"vacancy_nh.csv\" В задании важно не использовать pandas и numpy, а использовать встроенные инструменты python (Counter, CSV, defaultdict, sorted)\n",
        "2.   Попробуйте ответить на вопросы:\n",
        "*   Сколько всего вакансий?\n",
        "*   За какой период эти вакансии?\n",
        "*   Есть ли вакансии менеджеров с использованием Python, если да сколько их?\n",
        "*   Сколько вакансий для аналатика данных?\n",
        "*   Сколько вакансий для аналитика данных с использованием Python?"
      ],
      "metadata": {
        "id": "BVueIezKwf0p"
      }
    },
    {
      "cell_type": "code",
      "source": [
        "import csv\n",
        "import sys"
      ],
      "metadata": {
        "id": "__Je8OwqxrSC"
      },
      "execution_count": null,
      "outputs": []
    },
    {
      "cell_type": "code",
      "source": [
        "csv.field_size_limit(sys.maxsize)"
      ],
      "metadata": {
        "colab": {
          "base_uri": "https://localhost:8080/"
        },
        "id": "oox6ztEMx2Df",
        "outputId": "9bdd1fa1-a047-40b0-d58d-180bad0f0f51"
      },
      "execution_count": null,
      "outputs": [
        {
          "output_type": "execute_result",
          "data": {
            "text/plain": [
              "131072"
            ]
          },
          "metadata": {},
          "execution_count": 2
        }
      ]
    },
    {
      "cell_type": "code",
      "source": [
        "# Создать переменную и присвоить ей значение списка словарей прочитанных\n",
        "# из файла\n",
        "vacs = list(csv.DictReader(open('vacancy_nh.csv')))"
      ],
      "metadata": {
        "id": "tV_yfSiKx4yi"
      },
      "execution_count": null,
      "outputs": []
    },
    {
      "cell_type": "code",
      "source": [
        "# Переменная счетчик для подсчета количества элементов списка\n",
        "count_vacancy = 0\n",
        "\n",
        "# Переменная список для хранения дат всех вакансий\n",
        "list_vacancy_date = list()\n",
        "\n",
        "# Создать переменные для задания 3\n",
        "# Переменная название вакансии менеджера\n",
        "vac_name_manager_rus = 'менеджер'\n",
        "vac_name_manager_eng = 'manager'\n",
        "# Переменная навык Python\n",
        "skill = 'python'\n",
        "# Переменная счетчик для подсчета количества вакансий по условию\n",
        "count_manager_with_python = 0\n",
        "\n",
        "# Переменные для задания 4\n",
        "# Переменная название вакансии аналитика данных\n",
        "vac_name_data_analyst_rus = 'аналитик данных'\n",
        "vac_name_data_analyst_eng = 'data analyst'\n",
        "# Переменная счетчик вакансий дата аналитика\n",
        "count_data_analyst = 0\n",
        "\n",
        "# Переменная счетччик для вакансий дата аналитика с использованием  Python\n",
        "count_data_analyst_with_python = 0\n",
        "\n",
        "for row in vacs:\n",
        "  # Блок кода для решения задачи 1\n",
        "  count_vacancy += 1\n",
        "\n",
        "  # Блок кода для решения задачи 2\n",
        "  if row.get(\"vacdate\"):\n",
        "    list_vacancy_date.append(row.get(\"vacdate\"))\n",
        "\n",
        "  # Блок кода к заданию 3\n",
        "  if (vac_name_manager_rus in row.get(\"vactitle\").lower() or \\\n",
        "      vac_name_manager_eng in row.get(\"vactitle\")) and \\\n",
        "      skill in row.get(\"vacdescription\").lower():\n",
        "    count_manager_with_python += 1\n",
        "\n",
        "  # Блок кода к заданию 4\n",
        "  if vac_name_data_analyst_rus in row.get(\"vactitle\").lower() or \\\n",
        "  vac_name_data_analyst_eng in row.get(\"vactitle\").lower():\n",
        "      count_data_analyst += 1\n",
        "\n",
        "  # Блок кода к заданию 5\n",
        "  if (vac_name_data_analyst_rus in row.get(\"vactitle\").lower() or \\\n",
        "  vac_name_data_analyst_eng in row.get(\"vactitle\").lower()) and \\\n",
        "  skill in row.get(\"vacdescription\").lower():\n",
        "      count_data_analyst_with_python += 1\n",
        "\n",
        "\n",
        "# Ответ на решение задачи 1.\n",
        "print(\"В файле содержится\", count_vacancy, \"вакансий.\\n\")\n",
        "\n",
        "# Ответ на решение задачи 2.\n",
        "# Отсортируем список\n",
        "list_vacancy_date.sort()\n",
        "print(f\"Интервал дат вакансий с {list_vacancy_date[0]} до {list_vacancy_date[-1]}\\n\")\n",
        "\n",
        "# Ответ на решение задания 3.\n",
        "print(f\"В списке {count_manager_with_python} вакансий менеджера с использованием Python.\\n\")\n",
        "\n",
        "# Ответ на решение задания 4.\n",
        "print(f\"В списке {count_data_analyst} вакансий дата аналитика (включая data analyst).\\n\")\n",
        "\n",
        "# Ответ на решение задания 5.\n",
        "print(f\"В списке {count_data_analyst_with_python} вакансий дата аналитика с\\\n",
        " использованием Python (включая data analyst).\\n\")"
      ],
      "metadata": {
        "colab": {
          "base_uri": "https://localhost:8080/"
        },
        "id": "2waqIeE-x70m",
        "outputId": "caa8cc9e-485e-4338-b36e-864969890a3c"
      },
      "execution_count": null,
      "outputs": [
        {
          "output_type": "stream",
          "name": "stdout",
          "text": [
            "В файле содержится 4002 вакансий.\n",
            "\n",
            "Интервал дат вакансий с 2020-10-15 до 2021-03-17\n",
            "\n",
            "В списке 6 вакансий менеджера с использованием Python.\n",
            "\n",
            "В списке 42 вакансий дата аналитика (включая data analyst).\n",
            "\n",
            "В списке 23 вакансий дата аналитика с использованием Python (включая data analyst).\n",
            "\n"
          ]
        }
      ]
    }
  ]
}